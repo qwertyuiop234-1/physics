{
  "nbformat": 4,
  "nbformat_minor": 0,
  "metadata": {
    "colab": {
      "provenance": [],
      "authorship_tag": "ABX9TyPBBIsVUP1swrUc7TKg5aSv",
      "include_colab_link": true
    },
    "kernelspec": {
      "name": "python3",
      "display_name": "Python 3"
    },
    "language_info": {
      "name": "python"
    }
  },
  "cells": [
    {
      "cell_type": "markdown",
      "metadata": {
        "id": "view-in-github",
        "colab_type": "text"
      },
      "source": [
        "<a href=\"https://colab.research.google.com/github/qwertyuiop234-1/physics/blob/20250312/Trigonometric.ipynb\" target=\"_parent\"><img src=\"https://colab.research.google.com/assets/colab-badge.svg\" alt=\"Open In Colab\"/></a>"
      ]
    },
    {
      "cell_type": "code",
      "execution_count": 24,
      "metadata": {
        "id": "_PD6xRPgIJ8J"
      },
      "outputs": [],
      "source": [
        "import math # 수학 함수를 사용하기 위해서 라이브러리 추가"
      ]
    },
    {
      "cell_type": "code",
      "source": [
        "import math\n",
        "angle_degree = 30\n",
        "\n",
        "angle_radian = angle_degree * math.pi / 180\n",
        "\n",
        "print(\"angle_radian : \",angle_radian)\n"
      ],
      "metadata": {
        "colab": {
          "base_uri": "https://localhost:8080/"
        },
        "id": "7TIxQDWSIjIs",
        "outputId": "d7a7a409-afca-40b6-99f3-f663295f2f2b"
      },
      "execution_count": 23,
      "outputs": [
        {
          "output_type": "stream",
          "name": "stdout",
          "text": [
            "angle_radian :  0.5235987755982988\n"
          ]
        }
      ]
    },
    {
      "cell_type": "code",
      "source": [
        "math.cos(angle_radian)"
      ],
      "metadata": {
        "colab": {
          "base_uri": "https://localhost:8080/"
        },
        "outputId": "1e93a34d-f34a-4adc-cefb-d28544bbee75",
        "id": "qyqkwgf1J_aa"
      },
      "execution_count": 22,
      "outputs": [
        {
          "output_type": "execute_result",
          "data": {
            "text/plain": [
              "0.8660254037844387"
            ]
          },
          "metadata": {},
          "execution_count": 22
        }
      ]
    },
    {
      "cell_type": "code",
      "source": [
        "math.sin(angle_radian)"
      ],
      "metadata": {
        "colab": {
          "base_uri": "https://localhost:8080/"
        },
        "outputId": "868a4fd5-15ce-4d66-a332-beb5a8c8c515",
        "id": "INYitNpkKI9k"
      },
      "execution_count": 21,
      "outputs": [
        {
          "output_type": "execute_result",
          "data": {
            "text/plain": [
              "0.49999999999999994"
            ]
          },
          "metadata": {},
          "execution_count": 21
        }
      ]
    },
    {
      "cell_type": "code",
      "source": [
        "math.tan(angle_radian)"
      ],
      "metadata": {
        "colab": {
          "base_uri": "https://localhost:8080/"
        },
        "outputId": "6345e608-b540-43ad-8207-c28277cc66b6",
        "id": "0Fci3QxgKJL-"
      },
      "execution_count": 20,
      "outputs": [
        {
          "output_type": "execute_result",
          "data": {
            "text/plain": [
              "0.5773502691896257"
            ]
          },
          "metadata": {},
          "execution_count": 20
        }
      ]
    },
    {
      "cell_type": "code",
      "source": [
        "x,y = 1.0,2.0"
      ],
      "metadata": {
        "id": "HZFojH6GKJaC"
      },
      "execution_count": 19,
      "outputs": []
    },
    {
      "cell_type": "code",
      "source": [
        "r = math.sqrt(x**2 + y**2)\n",
        "theta_raiden = math.atan2(y,x)\n",
        "print(r,theta_raiden)"
      ],
      "metadata": {
        "colab": {
          "base_uri": "https://localhost:8080/"
        },
        "outputId": "f30160b8-5113-4bf9-a5ac-4b946d6e27f8",
        "id": "VBp3yJ9eLANw"
      },
      "execution_count": 17,
      "outputs": [
        {
          "output_type": "stream",
          "name": "stdout",
          "text": [
            "2.23606797749979 1.1071487177940904\n"
          ]
        }
      ]
    },
    {
      "cell_type": "code",
      "source": [
        "r,angle = 10,30"
      ],
      "metadata": {
        "id": "FKY0yVBAKa_J"
      },
      "execution_count": 18,
      "outputs": []
    },
    {
      "cell_type": "code",
      "source": [
        "# 아래에 [9번] 셀을 참조해서 극좌표 변환을 완성하세요"
      ],
      "metadata": {
        "id": "xlYs1ibHKbN7"
      },
      "execution_count": 5,
      "outputs": []
    }
  ]
}