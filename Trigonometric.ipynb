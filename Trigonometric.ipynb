{
  "nbformat": 4,
  "nbformat_minor": 0,
  "metadata": {
    "colab": {
      "provenance": [],
      "authorship_tag": "ABX9TyPo7xik2CzB9ughYFfKWiNQ",
      "include_colab_link": true
    },
    "kernelspec": {
      "name": "python3",
      "display_name": "Python 3"
    },
    "language_info": {
      "name": "python"
    }
  },
  "cells": [
    {
      "cell_type": "markdown",
      "metadata": {
        "id": "view-in-github",
        "colab_type": "text"
      },
      "source": [
        "<a href=\"https://colab.research.google.com/github/qwertyuiop234-1/physics/blob/20250312/Trigonometric.ipynb\" target=\"_parent\"><img src=\"https://colab.research.google.com/assets/colab-badge.svg\" alt=\"Open In Colab\"/></a>"
      ]
    },
    {
      "cell_type": "code",
      "execution_count": 1,
      "metadata": {
        "id": "_PD6xRPgIJ8J"
      },
      "outputs": [],
      "source": [
        "import math # 수학 함수를 사용하기 위해서 라이브러리 추가"
      ]
    },
    {
      "cell_type": "code",
      "source": [
        "import math\n",
        "angle_degree = 30\n",
        "\n",
        "angle_radian = angle_degree * math.pi / 180\n",
        "\n",
        "import math\n",
        "angle_degree = 30\n",
        "\n",
        "angle_radian = angle_degree * math.pi / 180\n",
        "\n",
        "print(\"angle_radian : \",angle_radian)\n",
        "4.\n",
        "print(\"angle_radian : \",angle_radian)"
      ],
      "metadata": {
        "colab": {
          "base_uri": "https://localhost:8080/"
        },
        "id": "7TIxQDWSIjIs",
        "outputId": "06c227a1-fa75-4896-b68a-b3de0906d2cf"
      },
      "execution_count": 6,
      "outputs": [
        {
          "output_type": "stream",
          "name": "stdout",
          "text": [
            "angle_radian :  0.5235987755982988\n",
            "angle_radian :  0.5235987755982988\n"
          ]
        }
      ]
    },
    {
      "cell_type": "code",
      "source": [
        "math.cos(angle_radian)"
      ],
      "metadata": {
        "colab": {
          "base_uri": "https://localhost:8080/"
        },
        "outputId": "e1af09b2-e76e-4ff0-d7eb-eabee60e7839",
        "id": "qyqkwgf1J_aa"
      },
      "execution_count": 7,
      "outputs": [
        {
          "output_type": "execute_result",
          "data": {
            "text/plain": [
              "0.8660254037844387"
            ]
          },
          "metadata": {},
          "execution_count": 7
        }
      ]
    },
    {
      "cell_type": "code",
      "source": [
        "math.sin(angle_radian)"
      ],
      "metadata": {
        "colab": {
          "base_uri": "https://localhost:8080/"
        },
        "outputId": "918f69f8-3d45-4132-b8a8-2de05072c02e",
        "id": "INYitNpkKI9k"
      },
      "execution_count": 8,
      "outputs": [
        {
          "output_type": "execute_result",
          "data": {
            "text/plain": [
              "0.49999999999999994"
            ]
          },
          "metadata": {},
          "execution_count": 8
        }
      ]
    },
    {
      "cell_type": "code",
      "source": [
        "math.tan(angle_radian)"
      ],
      "metadata": {
        "colab": {
          "base_uri": "https://localhost:8080/"
        },
        "outputId": "3864aff4-a4ce-4f90-c9c2-867ffbabb008",
        "id": "0Fci3QxgKJL-"
      },
      "execution_count": 9,
      "outputs": [
        {
          "output_type": "execute_result",
          "data": {
            "text/plain": [
              "0.5773502691896257"
            ]
          },
          "metadata": {},
          "execution_count": 9
        }
      ]
    },
    {
      "cell_type": "code",
      "source": [
        "x,y = 1.0,2.0"
      ],
      "metadata": {
        "id": "HZFojH6GKJaC"
      },
      "execution_count": 12,
      "outputs": []
    },
    {
      "cell_type": "code",
      "source": [
        "r = math.sqrt(x**2 + y**2)\n",
        "theta_raiden = math.atan2(y,x)\n",
        "print(r,theta_raiden)"
      ],
      "metadata": {
        "colab": {
          "base_uri": "https://localhost:8080/"
        },
        "outputId": "bdc1cad5-5fab-464d-b929-8438e3cd23aa",
        "id": "VBp3yJ9eLANw"
      },
      "execution_count": 14,
      "outputs": [
        {
          "output_type": "stream",
          "name": "stdout",
          "text": [
            "2.23606797749979 1.1071487177940904\n"
          ]
        }
      ]
    },
    {
      "cell_type": "code",
      "source": [
        "r,angle = 10,30"
      ],
      "metadata": {
        "id": "FKY0yVBAKa_J"
      },
      "execution_count": 11,
      "outputs": []
    },
    {
      "cell_type": "code",
      "source": [
        "# 아래에 [9번] 셀을 참조해서 극좌표 변환을 완성하세요"
      ],
      "metadata": {
        "colab": {
          "base_uri": "https://localhost:8080/"
        },
        "outputId": "e1af09b2-e76e-4ff0-d7eb-eabee60e7839",
        "id": "xlYs1ibHKbN7"
      },
      "execution_count": null,
      "outputs": [
        {
          "output_type": "execute_result",
          "data": {
            "text/plain": [
              "0.8660254037844387"
            ]
          },
          "metadata": {},
          "execution_count": 7
        }
      ]
    }
  ]
}